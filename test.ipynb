{
 "cells": [
  {
   "cell_type": "markdown",
   "metadata": {},
   "source": [
    "fetch ATP and WTA tour information from wiki (since 2017? depending on air quality data)"
   ]
  },
  {
   "cell_type": "code",
   "execution_count": 17,
   "metadata": {},
   "outputs": [],
   "source": [
    "import requests\n",
    "from bs4 import BeautifulSoup as sp\n",
    "import mwparserfromhell\n",
    "from urllib import request\n",
    "import re\n",
    "import panda as pd\n",
    "\n",
    "years = range(2017,2020)\n",
    "eventType = ['ATP', 'WTA']\n"
   ]
  },
  {
   "cell_type": "code",
   "execution_count": 59,
   "metadata": {
    "scrolled": true
   },
   "outputs": [
    {
     "name": "stdout",
     "output_type": "stream",
     "text": [
      "/wiki/2019_Hopman_Cup ['/wiki/Perth,_Western_Australia']\n",
      "/wiki/2019_Qatar_ExxonMobil_Open ['/wiki/Doha']\n",
      "/wiki/2019_Brisbane_International ['/wiki/Brisbane']\n",
      "/wiki/2019_Maharashtra_Open ['/wiki/Pune']\n",
      "/wiki/2019_Sydney_International ['/wiki/Sydney']\n",
      "/wiki/2019_ASB_Classic ['/wiki/Auckland']\n",
      "/wiki/2019_Australian_Open ['/wiki/Melbourne']\n",
      "/wiki/2019_Davis_Cup_Qualifying_Round ['/wiki/Uberl%C3%A2ndia', '/wiki/Tashkent', '/wiki/Adelaide', '/wiki/Kolkata', '/wiki/Frankfurt', '/wiki/Biel/Bienne', '/wiki/Astana', '/wiki/Ostrava', '/wiki/Bogot%C3%A1', '/wiki/Salzburg', '/wiki/Bratislava', '/wiki/Guangzhou']\n"
     ]
    }
   ],
   "source": [
    "url = 'https://en.wikipedia.org/wiki/2019_ATP_Tour#Schedule'\n",
    "url_root = 'https://en.wikipedia.org'\n",
    "html = requests.get(url).text\n",
    "soup = sp(html,\"lxml\")\n",
    "# print(soup.prettify())\n",
    "my_table = soup.find_all('table',{'class':'wikitable'})[1:13]\n",
    "# print(my_table)\n",
    "for t in my_table:\n",
    "    rows = t.find_all('tr')\n",
    "    for row in rows[1:]:\n",
    "        grids = row.find_all('td')\n",
    "#         print(len(grids))\n",
    "        if len(grids)>=5:\n",
    "            event_info_grid = grids[-5]\n",
    "            urls = event_info_grid.find_all('a', href = re.compile(\"^/wiki/\"))\n",
    "            event_url = urls[0]['href']\n",
    "            city_url = []\n",
    "#             print(urls[0].get_text())\n",
    "            for temp_url in urls[1:]:\n",
    "                if 'Draw' not in temp_url.get_text():\n",
    "                    city_url.append(temp_url['href'])\n",
    "            print(event_url,city_url)\n",
    "#         break\n",
    "    break\n",
    "    "
   ]
  },
  {
   "cell_type": "code",
   "execution_count": null,
   "metadata": {},
   "outputs": [],
   "source": [
    "# define a parser, input the event year and type, return a pandas dataframe of events\n",
    "# cols: start_date, end_date, city_name, city_url, event_name, event_link\n",
    "# stack all dataframes together"
   ]
  },
  {
   "cell_type": "code",
   "execution_count": 60,
   "metadata": {},
   "outputs": [
    {
     "name": "stdout",
     "output_type": "stream",
     "text": [
      "https://en.wikipedia.org/wiki/2017_ATP_Tour\n",
      "https://en.wikipedia.org/wiki/2018_ATP_Tour\n",
      "https://en.wikipedia.org/wiki/2019_ATP_Tour\n",
      "https://en.wikipedia.org/wiki/2017_WTA_Tour\n",
      "https://en.wikipedia.org/wiki/2018_WTA_Tour\n",
      "https://en.wikipedia.org/wiki/2019_WTA_Tour\n"
     ]
    }
   ],
   "source": [
    "for a in eventType:\n",
    "    for year in years:\n",
    "        url = f'{url_root}/wiki/{year}_{a}_Tour'\n",
    "        print(url)\n",
    "#         wp=requests.get(url).text\n",
    "#         print(wp)"
   ]
  },
  {
   "cell_type": "markdown",
   "metadata": {},
   "source": [
    "scrape city air quality data from berkerly earth"
   ]
  },
  {
   "cell_type": "markdown",
   "metadata": {},
   "source": [
    "rank by AQI during the event\n",
    "e.g. http://berkeleyearth.lbl.gov/air-quality/local/China/Beijing"
   ]
  },
  {
   "cell_type": "code",
   "execution_count": null,
   "metadata": {},
   "outputs": [],
   "source": []
  }
 ],
 "metadata": {
  "kernelspec": {
   "display_name": "Python 3",
   "language": "python",
   "name": "python3"
  },
  "language_info": {
   "codemirror_mode": {
    "name": "ipython",
    "version": 3
   },
   "file_extension": ".py",
   "mimetype": "text/x-python",
   "name": "python",
   "nbconvert_exporter": "python",
   "pygments_lexer": "ipython3",
   "version": "3.7.0"
  }
 },
 "nbformat": 4,
 "nbformat_minor": 2
}
